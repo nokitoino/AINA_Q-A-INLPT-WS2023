{
 "cells": [
  {
   "cell_type": "markdown",
   "id": "090c837f",
   "metadata": {},
   "source": [
    "**RRA using Haystack**"
   ]
  },
  {
   "cell_type": "code",
   "execution_count": 1,
   "id": "549410b4",
   "metadata": {},
   "outputs": [
    {
     "name": "stderr",
     "output_type": "stream",
     "text": [
      "C:\\Users\\burha\\miniconda3\\lib\\site-packages\\elasticsearch\\connection\\base.py:200: ElasticsearchWarning: Elasticsearch built-in security features are not enabled. Without authentication, your cluster could be accessible to anyone. See https://www.elastic.co/guide/en/elasticsearch/reference/7.17/security-minimal-setup.html to enable security.\n",
      "  warnings.warn(message, category=ElasticsearchWarning)\n"
     ]
    },
    {
     "name": "stdout",
     "output_type": "stream",
     "text": [
      "19\n",
      "18 documents loaded\n",
      "Retrieved Documents:\n",
      "Score: 0.7561255472095245, Document: to propose and evaluate a new method for assessing the potential impact on speech intelligibility when wearing a hearing protection device (hpd) in a noisy environment.\n",
      "Score: 0.6072449520122258, Document: sensitive responding to others' emotional body expressions is an essential social skill in humans. using event-related brain potentials, it has recently been shown that the ability to discriminate between emotional body expressions develops between 4 and 8 months of age. however, it is not clear whether the perception of emotional body expressions in others evokes sensitive brain responses linked to motivational processes in infants. we therefore examined frontal eeg alpha asymmetry in response to dynamic happy and fearful body expressions presented to 4- and 8-month-old infants in 2 orientations (upright and inverted). our results revealed that only 8-month-olds but not 4-month-olds showed significant differences in their frontal asymmetry responses between emotional expressions when presented in an upright orientation. specifically, 8-month-old infants showed a greater lateralization to the left hemisphere in response to happy expression, indexing a greater tendency to approach, whereas they showed a greater lateralization to the right hemisphere in response to fearful expressions, indexing a greater tendency to withdraw. these findings provide further support for the notion that infants' perception of emotion undergoes a developmental tuning during this period in development. critically, the results suggest that the infant brain becomes sensitive to the motivational significance conveyed by the emotional body expressions.\n"
     ]
    }
   ],
   "source": [
    "import json\n",
    "from haystack.document_stores import ElasticsearchDocumentStore\n",
    "from haystack.nodes import BM25Retriever\n",
    "\n",
    "# Set up Elasticsearch document store\n",
    "document_store = ElasticsearchDocumentStore(return_embedding=True)\n",
    "#document_store.delete_documents(index=\"document\")\n",
    "# Read PubMed data\n",
    "with open(\"output.json\", \"r\") as file:\n",
    "    data = json.load(file)\n",
    "    print(len(data))\n",
    "\n",
    "# Upload the data to document store\n",
    "docs = []\n",
    "for entry in data:\n",
    "    doc = {\n",
    "        \"content\": entry.get(\"abstract\", {}).get(\"full_text\", \"\"),\n",
    "        \"meta\": {\n",
    "            \"item_id\": entry.get(\"title\", {}).get(\"full_text\", \"\"),\n",
    "            \"question_id\": \"sample_question_id\",  # You can replace this with an appropriate value\n",
    "            \"split\": \"sample_split\",  # You can replace this with an appropriate value\n",
    "            \"authors\": entry.get(\"authors\", []),\n",
    "            \"affiliations\": entry.get(\"affiliations\", []),\n",
    "            \"identifiers\": entry.get(\"identifiers\", {}),\n",
    "            \"journal\": entry.get(\"journal\", \"\"),\n",
    "            \"title\": entry.get(\"title\", {}).get(\"full_text\", \"\"),\n",
    "            \"keywords\": entry.get(\"keywords\", []),\n",
    "            \"references\": entry.get(\"references\", [])\n",
    "        }\n",
    "    }\n",
    "    docs.append(doc)\n",
    "\n",
    "document_store.write_documents(docs, index=\"document\")\n",
    "\n",
    "# Here we verify that we uploaded the documents\n",
    "print(f\"{document_store.get_document_count()} documents loaded\")\n",
    "\n",
    "# Sample query using BM25Retriever (its a sparse vectore retriever)\n",
    "retriever = BM25Retriever(document_store=document_store)\n",
    "query = \"impact of hearing protectors on speech perception\"\n",
    "retrieved_docs = retriever.retrieve(query=query,top_k=2) #you can add filters\n",
    "\n",
    "# Print the retrieved documents\n",
    "print(\"Retrieved Documents:\")\n",
    "for doc in retrieved_docs:\n",
    "    print(f\"Score: {doc.score}, Document: {doc.content}\")\n"
   ]
  },
  {
   "cell_type": "code",
   "execution_count": null,
   "id": "cb96921a",
   "metadata": {},
   "outputs": [],
   "source": []
  }
 ],
 "metadata": {
  "kernelspec": {
   "display_name": "Python 3 (ipykernel)",
   "language": "python",
   "name": "python3"
  },
  "language_info": {
   "codemirror_mode": {
    "name": "ipython",
    "version": 3
   },
   "file_extension": ".py",
   "mimetype": "text/x-python",
   "name": "python",
   "nbconvert_exporter": "python",
   "pygments_lexer": "ipython3",
   "version": "3.10.10"
  },
  "toc": {
   "base_numbering": 1,
   "nav_menu": {},
   "number_sections": false,
   "sideBar": true,
   "skip_h1_title": false,
   "title_cell": "Table of Contents",
   "title_sidebar": "Contents",
   "toc_cell": false,
   "toc_position": {},
   "toc_section_display": true,
   "toc_window_display": false
  }
 },
 "nbformat": 4,
 "nbformat_minor": 5
}
