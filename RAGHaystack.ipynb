{
 "cells": [
  {
   "cell_type": "markdown",
   "id": "090c837f",
   "metadata": {},
   "source": [
    "**RAG using Haystack**"
   ]
  },
  {
   "cell_type": "code",
   "execution_count": null,
   "id": "549410b4",
   "metadata": {},
   "outputs": [],
   "source": [
    "import json\n",
    "from haystack.document_stores import ElasticsearchDocumentStore\n",
    "from haystack.nodes import BM25Retriever\n",
    "# Set up Elasticsearch document store\n",
    "document_store = ElasticsearchDocumentStore(return_embedding=True)\n",
    "\n",
    "\n",
    "document_store.delete_documents(index=\"document\")\n",
    "# Read PubMed data\n",
    "with open(\"papers.json\", \"r\") as file:\n",
    "    data = json.load(file)\n",
    "    print(len(data))\n",
    "\n",
    "# Upload the data to document store\n",
    "docs = []\n",
    "for entry in data:\n",
    "    doc = {\n",
    "        \"content\": entry.get(\"abstract\", {}).get(\"full_text\", \"\"),\n",
    "        \"meta\": {\n",
    "            \"title\": entry.get(\"title\", {}).get(\"full_text\", \"\"),\n",
    "            \"keywords\": entry.get(\"keywords\", []),\n",
    "        }\n",
    "    }\n",
    "    docs.append(doc)\n",
    "\n",
    "document_store.write_documents(docs, index=\"document\")\n",
    "\n",
    "# Here we verify that we uploaded the documents\n",
    "print(f\"{document_store.get_document_count()} documents loaded\")\n",
    "\n",
    "# Sample query using BM25Retriever (its a sparse vectore retriever)\n",
    "retriever = BM25Retriever(document_store=document_store)\n",
    "query = \"naturalistic development\"\n",
    "retrieved_docs = retriever.retrieve(query=query,top_k=3) #you can add filters\n",
    "\n",
    "# Print the retrieved documents\n",
    "print(\"Retrieved Documents:\")\n",
    "for doc in retrieved_docs:\n",
    "    print(f\"Score: {doc.score}, Document: {doc.content}\")\n"
   ]
  },
  {
   "cell_type": "code",
   "execution_count": 12,
   "id": "79955b75",
   "metadata": {},
   "outputs": [
    {
     "name": "stdout",
     "output_type": "stream",
     "text": [
      "Retrieved Documents:\n",
      "Score: 0.8337135188752255, Document: driving intelligence tests are critical to the development and deployment of autonomous vehicles. the prevailing approach tests autonomous vehicles in life-like simulations of the naturalistic driving environment. however, due to the high dimensionality of the environment and the rareness of safety-critical events, hundreds of millions of miles would be required to demonstrate the safety performance of autonomous vehicles, which is severely inefficient. we discover that sparse but adversarial adjustments to the naturalistic driving environment, resulting in the naturalistic and adversarial driving environment, can significantly reduce the required test miles without loss of evaluation unbiasedness. by training the background vehicles to learn when to execute what adversarial maneuver, the proposed environment becomes an intelligent environment for driving intelligence testing. we demonstrate the effectiveness of the proposed environment in a highway-driving simulation. comparing with the naturalistic driving environment, the proposed environment can accelerate the evaluation process by multiple orders of magnitude.\n",
      "Score: 0.8146835724467554, Document: humans rely on their sense of touch to interact with the environment. thus, restoring lost tactile sensory capabilities in amputees would advance their quality of life. in particular, texture discrimination is an important component for the interaction with the environment, but its restoration in amputees has been so far limited to simplified gratings. here we show that naturalistic textures can be discriminated by trans-radial amputees using intraneural peripheral stimulation and tactile sensors located close to the outer layer of the artificial skin. these sensors exploit the morphological neural computation (mnc) approach, i.e., the embodiment of neural computational functions into the physical structure of the device, encoding normal and shear stress to guarantee a faithful neural temporal representation of stimulus spatial structure. two trans-radial amputees successfully discriminated naturalistic textures via the mnc-based tactile feedback. the results also allowed to shed light on the relevance of spike temporal encoding in the mechanisms used to discriminate naturalistic textures. our findings pave the way to the development of more natural bionic limbs.\n",
      "Score: 0.8116747217932628, Document: for a decade, researchers working in the area of road safety have started exploring the use of driving behavior data for a better understanding of the causes related to road accidents. a review of the literature reveals the excellent potential of naturalistic driving studies carried out by collecting vehicle performance data and driver behavior data during normal, impaired, and safety-critical situations. an in-depth understanding of driver behavior helps analyze and implement pre-crash safety measures - the development of enforcement policies, infrastructure design, and intelligent vehicle safety systems. the present paper attempts to review the naturalistic driving studies that have been undertaken so far. the paper begins with an overview of different methods for collecting unobtrusive driver behavior data during their day to day trip, followed by a discussion of various factors affecting driving behavior and their influence on vehicle performance parameters. the paper also discusses the strategies mentioned in the literature for improving driving behavior using naturalistic driving studies to enhance road safety. some of the major findings of this review suggest that i) driver behavior is a major cause in the majority of the road accidents ii) drivers generally reduce their speed and increases headway as a compensatory measure to reduce the workload imposed during distracting activity and adverse weather conditions iii) mobile phone has emerged as a potential device for collecting naturalistic driving data and, iv) improvement in driving behavior can be achieved by providing feedback to the drivers about their driving behavior. this can be done by implementing usage-based insurance schemes such as pay as you drive (payd), pay how you drive (phyd), and manage how you drive (mhyd). while a considerable amount of research has been done to analyze driving behavior under naturalistic conditions, some areas which are yet to be explored are highlighted in the present paper.\n"
     ]
    }
   ],
   "source": [
    "import json\n",
    "from haystack.document_stores import ElasticsearchDocumentStore\n",
    "from haystack.nodes import BM25Retriever\n",
    "# Set up Elasticsearch document store\n",
    "document_store = ElasticsearchDocumentStore(return_embedding=True)\n",
    "# Sample query using BM25Retriever (its a sparse vectore retriever)\n",
    "retriever = BM25Retriever(document_store=document_store)\n",
    "query = \"naturalistic development\"\n",
    "retrieved_docs = retriever.retrieve(query=query,top_k=3) #you can add filters\n",
    "\n",
    "# Print the retrieved documents\n",
    "print(\"Retrieved Documents:\")\n",
    "for doc in retrieved_docs:\n",
    "    print(f\"Score: {doc.score}, Document: {doc.content}\")"
   ]
  },
  {
   "cell_type": "code",
   "execution_count": 2,
   "id": "cb96921a",
   "metadata": {},
   "outputs": [
    {
     "name": "stderr",
     "output_type": "stream",
     "text": [
      "Some weights of the model checkpoint at deepset/minilm-uncased-squad2 were not used when initializing BertForQuestionAnswering: ['bert.pooler.dense.bias', 'bert.pooler.dense.weight']\n",
      "- This IS expected if you are initializing BertForQuestionAnswering from the checkpoint of a model trained on another task or with another architecture (e.g. initializing a BertForSequenceClassification model from a BertForPreTraining model).\n",
      "- This IS NOT expected if you are initializing BertForQuestionAnswering from the checkpoint of a model that you expect to be exactly identical (initializing a BertForSequenceClassification model from a BertForSequenceClassification model).\n"
     ]
    }
   ],
   "source": [
    "from haystack.nodes import FARMReader\n",
    "\n",
    "\n",
    "model_ckpt = \"deepset/minilm-uncased-squad2\"\n",
    "max_seq_length, doc_stride = 384, 128\n",
    "reader = FARMReader(model_name_or_path=model_ckpt,progress_bar=False, max_seq_len=max_seq_length,doc_stride=doc_stride,return_no_answer=True)"
   ]
  },
  {
   "cell_type": "code",
   "execution_count": 3,
   "id": "ccdc9ba9",
   "metadata": {},
   "outputs": [
    {
     "name": "stdout",
     "output_type": "stream",
     "text": [
      "{'query': 'What is depression?', 'no_ans_gap': 6.250293254852295, 'answers': [<Answer {'answer': 'illness', 'type': 'extractive', 'score': 0.6270307898521423, 'context': 'depression is an illness', 'offsets_in_document': [{'start': 17, 'end': 24}], 'offsets_in_context': [{'start': 17, 'end': 24}], 'document_ids': ['fd35c5b9a2940724cae84361236a95ec'], 'meta': {}}>]}\n"
     ]
    }
   ],
   "source": [
    "question = \"What is depression?\"\n",
    "print(reader.predict_on_texts(question=question, texts=[\"depression is an illness\"], top_k=1))"
   ]
  },
  {
   "cell_type": "code",
   "execution_count": 4,
   "id": "af2dacf4",
   "metadata": {},
   "outputs": [],
   "source": [
    "from haystack.pipelines import ExtractiveQAPipeline\n",
    "\n",
    "pipe = ExtractiveQAPipeline(reader=reader, retriever=retriever)"
   ]
  },
  {
   "cell_type": "code",
   "execution_count": 5,
   "id": "ed3c7718",
   "metadata": {},
   "outputs": [
    {
     "name": "stdout",
     "output_type": "stream",
     "text": [
      "Question: What is described as a crucial mechanism of healthy cognitive functioning? \n",
      "\n",
      "Answer 1: \n",
      "Review snippet: ...None...\n",
      "\n",
      "\n",
      "\n",
      "Answer 2: nutrition\n",
      "Review snippet: ...tive functioning is relevant for potential interventions. among these, nutrition plays a key role. in fact, the link between gut and brain (the gut-br...\n",
      "\n",
      "\n",
      "\n",
      "Answer 3: opioid maintenance treatment\n",
      "Review snippet: ... recognition performance. based on our and earlier findings, opioid maintenance treatment may be seen as relatively safe with respect to cognitive dys...\n",
      "\n",
      "\n",
      "\n"
     ]
    }
   ],
   "source": [
    "n_answers = 3\n",
    "query = \"What is described as a crucial mechanism of healthy cognitive functioning?\"\n",
    "preds = pipe.run(query=query, params={\"Retriever\": {\"top_k\": 3}, \n",
    "                                      \"Reader\": {\"top_k\": n_answers}})\n",
    "\n",
    "print(f\"Question: {preds['query']} \\n\")\n",
    "\n",
    "for idx in range(n_answers):\n",
    "    print(f\"Answer {idx+1}: {preds['answers'][idx].answer}\")\n",
    "    print(f\"Review snippet: ...{preds['answers'][idx].context}...\")\n",
    "    print(\"\\n\\n\")"
   ]
  },
  {
   "cell_type": "code",
   "execution_count": 6,
   "id": "722744a1",
   "metadata": {},
   "outputs": [
    {
     "data": {
      "application/vnd.jupyter.widget-view+json": {
       "model_id": "c1a219fa21094af186c13d2cb04e6cab",
       "version_major": 2,
       "version_minor": 0
      },
      "text/plain": [
       "Downloading readme:   0%|          | 0.00/4.87k [00:00<?, ?B/s]"
      ]
     },
     "metadata": {},
     "output_type": "display_data"
    },
    {
     "name": "stdout",
     "output_type": "stream",
     "text": [
      "DatasetDict({\n",
      "    train: Dataset({\n",
      "        features: ['pubid', 'question', 'context', 'long_answer', 'final_decision'],\n",
      "        num_rows: 210269\n",
      "    })\n",
      "    test: Dataset({\n",
      "        features: ['pubid', 'question', 'context', 'long_answer', 'final_decision'],\n",
      "        num_rows: 1000\n",
      "    })\n",
      "})\n"
     ]
    }
   ],
   "source": [
    "from datasets import load_dataset,DatasetDict\n",
    "dataset = load_dataset(\"pubmed_qa\", \"pqa_artificial\")\n",
    "num_test_samples = 1000  # Choose the number of samples for the test set\n",
    "# Assuming `dataset` is a DatasetDict and 'train' is the key for the training set\n",
    "training_set = dataset['train']\n",
    "\n",
    "# Create a test set by taking a subset of samples from the training set\n",
    "test_set = training_set.shuffle(seed=42).select([i for i in range(num_test_samples)])\n",
    "# Remove the selected samples from the training set, to avoid overlap\n",
    "selected_pubids = [sample['pubid'] for sample in test_set]\n",
    "training_set = training_set.filter(lambda x: x['pubid'] not in selected_pubids)\n",
    "\n",
    "new_dataset_dict = DatasetDict({\n",
    "    'train': training_set,\n",
    "    'test': test_set,\n",
    "})\n",
    "\n",
    "dataset = new_dataset_dict\n",
    "print(dataset)"
   ]
  },
  {
   "cell_type": "code",
   "execution_count": 7,
   "id": "66e45386",
   "metadata": {},
   "outputs": [
    {
     "name": "stdout",
     "output_type": "stream",
     "text": [
      "Anzahl an Fragen in train: 210269\n",
      "Anzahl an Fragen in test: 1000\n"
     ]
    }
   ],
   "source": [
    "import pandas as pd\n",
    "dfs = {split: dset.to_pandas() for split, dset in dataset.flatten().items()}\n",
    "\n",
    "for split, df in dfs.items():\n",
    "    print(f\"Anzahl an Fragen in {split}: {df['pubid'].nunique()}\")"
   ]
  },
  {
   "cell_type": "markdown",
   "id": "93115bd8",
   "metadata": {},
   "source": [
    "**Costumizing our Dense Passage Retriever**"
   ]
  },
  {
   "cell_type": "code",
   "execution_count": 8,
   "id": "2babc125",
   "metadata": {},
   "outputs": [
    {
     "name": "stderr",
     "output_type": "stream",
     "text": [
      "C:\\Users\\burha\\AppData\\Roaming\\Python\\Python310\\site-packages\\torch\\_utils.py:831: UserWarning: TypedStorage is deprecated. It will be removed in the future and UntypedStorage will be the only storage class. This should only matter to you if you are using storages directly.  To access UntypedStorage directly, use tensor.untyped_storage() instead of tensor.storage()\n",
      "  return self.fget.__get__(instance, owner)()\n"
     ]
    }
   ],
   "source": [
    "from haystack.nodes import DensePassageRetriever\n",
    "\n",
    "dpr_retriever = DensePassageRetriever(document_store=document_store,\n",
    "    query_embedding_model=\"facebook/dpr-question_encoder-single-nq-base\",\n",
    "    passage_embedding_model=\"facebook/dpr-ctx_encoder-single-nq-base\",\n",
    "    embed_title=False)"
   ]
  },
  {
   "cell_type": "code",
   "execution_count": 10,
   "id": "37e1d791",
   "metadata": {},
   "outputs": [
    {
     "name": "stderr",
     "output_type": "stream",
     "text": [
      "No documents with embeddings. Run the document store's update_embeddings() method.\n"
     ]
    },
    {
     "name": "stdout",
     "output_type": "stream",
     "text": [
      "Retrieved Documents:\n"
     ]
    }
   ],
   "source": [
    "retrieved_docs = dpr_retriever.retrieve(query=\"\",top_k=3) #you can add filters\n",
    "\n",
    "# Print the retrieved documents\n",
    "print(\"Retrieved Documents:\")\n",
    "for doc in retrieved_docs:\n",
    "    print(f\"Score: {doc.score}, Document: {doc.content}\")"
   ]
  },
  {
   "cell_type": "code",
   "execution_count": null,
   "id": "de0d0122",
   "metadata": {},
   "outputs": [],
   "source": [
    "document_store.update_embeddings(retriever=dpr_retriever)"
   ]
  },
  {
   "cell_type": "code",
   "execution_count": 11,
   "id": "21752cf4",
   "metadata": {},
   "outputs": [
    {
     "name": "stderr",
     "output_type": "stream",
     "text": [
      "You are using the default legacy behaviour of the <class 'transformers.models.t5.tokenization_t5.T5Tokenizer'>. This is expected, and simply means that the `legacy` (previous) behavior will be used so nothing changes for you. If you want to use the new behaviour, set `legacy=False`. This should only be set if you understand what it means, and thouroughly read the reason why this was added as explained in https://github.com/huggingface/transformers/pull/24565\n"
     ]
    }
   ],
   "source": [
    "from haystack.nodes import PromptNode, PromptTemplate, AnswerParser\n",
    "\n",
    "rag_prompt = PromptTemplate(\n",
    "    prompt=\"\"\"question: {query} context: {join(documents)}\"\"\",\n",
    "    output_parser=AnswerParser(),\n",
    ")\n",
    "\n",
    "prompt_node = PromptNode(model_name_or_path=\"MaRiOrOsSi/t5-base-finetuned-question-answering\", default_prompt_template=rag_prompt)\n",
    "\n",
    "#prompt_node = PromptNode(model_name_or_path=\"microsoft/BioGPT-Large-PubMedQA\", default_prompt_template=rag_prompt)\n"
   ]
  },
  {
   "cell_type": "code",
   "execution_count": 13,
   "id": "4f0a602f",
   "metadata": {},
   "outputs": [],
   "source": [
    "from haystack.pipelines import Pipeline\n",
    "\n",
    "pipe = Pipeline()\n",
    "pipe.add_node(component=retriever, name=\"retriever\", inputs=[\"Query\"]) #dpr_retriever for dense retriever\n",
    "pipe.add_node(component=prompt_node, name=\"prompt_node\", inputs=[\"retriever\"])\n"
   ]
  },
  {
   "cell_type": "code",
   "execution_count": 20,
   "id": "29f18060",
   "metadata": {},
   "outputs": [
    {
     "name": "stderr",
     "output_type": "stream",
     "text": [
      "The prompt has been truncated from 4889 tokens to 412 tokens so that the prompt length and answer length (100 tokens) fit within the max token limit (512 tokens). Shorten the prompt to prevent it from being cut off\n",
      "The prompt has been truncated from 2906 tokens to 412 tokens so that the prompt length and answer length (100 tokens) fit within the max token limit (512 tokens). Shorten the prompt to prevent it from being cut off\n",
      "The prompt has been truncated from 1728 tokens to 412 tokens so that the prompt length and answer length (100 tokens) fit within the max token limit (512 tokens). Shorten the prompt to prevent it from being cut off\n"
     ]
    },
    {
     "name": "stdout",
     "output_type": "stream",
     "text": [
      "{'answers': [<Answer {'answer': 'no', 'type': 'generative', 'score': None, 'context': None, 'offsets_in_document': None, 'offsets_in_context': None, 'document_ids': ['6637e755f1b9dbad1abd5198abbd1271', '4af46bed70cb2fdcb3dd3f205c50cb95', '29d3dbaa6f734b793234a18d81ab4bbc', 'e40b51e794081d673fb59d421d402ac3', '777901db3237eecac1544ba14d4c4ecc', 'ff6b279667306523ce5c9f43adbe7d3b', '68689135372f4a207b1828ac3777f58f', '932bf78d0b4d16d0a53012c5aa71413d', '66b0ded26c60517b660da5c227aa9929', 'ef8f0d0b59d91d1c81575983a676141f'], 'meta': {'prompt': 'question: Has the use of digital technology in managing AKI been fully explored and implemented in clinical practice? context: acute kidney injury (aki), which is a common complication of acute illnesses, affects the health of individuals in community, acute care and post-acute care settings. although the recognition, prevention and management of aki has advanced over the past decades, its incidence and related morbidity, mortality and health care burden remain overwhelming. the rapid growth of digital technologies has provided a new platform to improve patient care, and reports show demonstrable benefits in care processes and, in some instances, in patient outcomes. however, despite great progress, the potential benefits of using digital technology to manage aki has not yet been fully explored or implemented in clinical practice. digital health studies in aki have shown variable evidence of benefits, and the digital divide means that access to digital technologies is not equitable. upstream research and development costs, limited stakeholder participation and acceptance, and poor scalability of digital health solutions have hindered their widespread implementation and use. here, we provide recommendations from the acute disease quality initiative consensus meeting, which involved experts in adult and paediatric nephrology, critical care, pharmacy and data science, at which the use of digital health for risk prediction, prevention, identification and management of aki and its consequences was discussed. digital technology is becoming increasingly common in routine nursing practice. the adoption of digital technologies such as video calling, and other digital communication, has been hastened by the recent covid-19 pandemic. use of these technologies has the potential to revolutionise nursing practice, leading to potentially more accurate patient assessment, monitoring processes and improved safety in clinical areas. this article outlines key concepts related to the digitalisation of health care and the implications for nursing practice. the aim of this article is to encourage nurses to consider the implications, opportunities and challenges associated with the move towards digitalisation and advances in technology. specifically, this means understanding key digital developments'}}>], 'invocation_context': {'query': 'Has the use of digital technology in managing AKI been fully explored and implemented in clinical practice?', 'documents': [<Document: {'content': 'acute kidney injury (aki), which is a common complication of acute illnesses, affects the health of individuals in community, acute care and post-acute care settings. although the recognition, prevention and management of aki has advanced over the past decades, its incidence and related morbidity, mortality and health care burden remain overwhelming. the rapid growth of digital technologies has provided a new platform to improve patient care, and reports show demonstrable benefits in care processes and, in some instances, in patient outcomes. however, despite great progress, the potential benefits of using digital technology to manage aki has not yet been fully explored or implemented in clinical practice. digital health studies in aki have shown variable evidence of benefits, and the digital divide means that access to digital technologies is not equitable. upstream research and development costs, limited stakeholder participation and acceptance, and poor scalability of digital health solutions have hindered their widespread implementation and use. here, we provide recommendations from the acute disease quality initiative consensus meeting, which involved experts in adult and paediatric nephrology, critical care, pharmacy and data science, at which the use of digital health for risk prediction, prevention, identification and management of aki and its consequences was discussed.', 'content_type': 'text', 'score': 0.9947115560581388, 'meta': {'title': 'digital health and acute kidney injury: consensus report of the 27th acute disease quality initiative workgroup.', 'keywords': []}, 'id_hash_keys': ['content'], 'embedding': None, 'id': '6637e755f1b9dbad1abd5198abbd1271'}>, <Document: {'content': 'digital technology is becoming increasingly common in routine nursing practice. the adoption of digital technologies such as video calling, and other digital communication, has been hastened by the recent covid-19 pandemic. use of these technologies has the potential to revolutionise nursing practice, leading to potentially more accurate patient assessment, monitoring processes and improved safety in clinical areas. this article outlines key concepts related to the digitalisation of health care and the implications for nursing practice. the aim of this article is to encourage nurses to consider the implications, opportunities and challenges associated with the move towards digitalisation and advances in technology. specifically, this means understanding key digital developments and innovations associated with healthcare provision and appreciating the implications of digitalisation for the future of nursing practice.', 'content_type': 'text', 'score': 0.9551775399621761, 'meta': {'title': 'the digital future of nursing: making sense of taxonomies and key concepts.', 'keywords': [['Artificial intelligence', 'Digital communication', 'Digital technology', 'Telehealth', 'e-health', 'e-prescribing']]}, 'id_hash_keys': ['content'], 'embedding': None, 'id': '4af46bed70cb2fdcb3dd3f205c50cb95'}>, <Document: {'content': 'electronic health records (ehrs) have become an integrated part of medical practice in most clinical settings around the world. appropriate use of ehr potentially improves patient care while poorly designed ehr can cause harm. in recent years, ehr has been used as a platform to identify patients who have or may develop acute kidney injury (aki). the benefit of using ehr for a rule-based classification of aki has been controversial. while some reports indicate improvement in the process of care provided to aki patients, other studies do not show significant changes in the outcomes. utilities of ehr in aki should go beyond a rule-based detection of the aki as a syndrome. there are several different potential applications for such tools including aki forecasting models and clinical decision support systems, to improve the quality of care and outcome of the patients with aki. both clinical and investigative interest in the field is growing among clinicians, administrators and scientists. appropriate utilization of intelligent ehr can provide timely, appropriate and accurate information to the clinicians in order to improve the quality of care provided to critically ill patients and assist investigators to generate new knowledge. in this review paper, we discuss the past and present states of ehr role in the field of aki. we also share our views regarding the future potentials and directions of these devices.', 'content_type': 'text', 'score': 0.9541177276969128, 'meta': {'title': 'utilities of electronic medical records to improve quality of care for acute kidney injury: past, present, future.', 'keywords': []}, 'id_hash_keys': ['content'], 'embedding': None, 'id': '29d3dbaa6f734b793234a18d81ab4bbc'}>, <Document: {'content': \"while a growing body of research has explored why people take part in clinical trials, this research has not considered how people's understandings, motivations and agendas might influence their conduct during a trial. this is an important area of enquiry because it is now widely recognised that an intervention might lead to different clinical outcomes when delivered as part of a trial than when implemented in routine clinical practice; however, the reasons for this are not fully understood.\", 'content_type': 'text', 'score': 0.9534724091505847, 'meta': {'title': \"ambassadors of hope, research pioneers and agents of change-individuals' expectations and experiences of taking part in a randomised trial of an innovative health technology: longitudinal qualitative study.\", 'keywords': [['Clinical trial', 'Diabetes', 'Medical device', 'Qualitative research', 'Technology', 'Trial effects', 'Trial participation']]}, 'id_hash_keys': ['content'], 'embedding': None, 'id': 'e40b51e794081d673fb59d421d402ac3'}>, <Document: {'content': 'we describe a roadmap for a fully digital artificial intelligence (ai)-augmented nonclinical pathology laboratory across three continents. underpinning the design are good laboratory practice (glp)-validated laboratory information management systems (lims), whole slide-scanners (wss), image management systems (ims), and a digital microscope intended for use by the nonclinical pathologist. digital diagnostics are supported by tools that include ai-based virtual staining and deep learning-based decision support. implemented during the covid-19 pandemic, the initial digitized workflow largely mitigated disruption of pivotal nonclinical studies required to support pharmaceutical clinical testing. we believe that this digital transformation of our nonclinical pathology laboratories will promote efficiency and innovation in the future and enhance the quality and speed of drug development decision making.', 'content_type': 'text', 'score': 0.9467282728824616, 'meta': {'title': 'building a nonclinical pathology laboratory of the future for pharmaceutical research excellence.', 'keywords': [['Artificial intelligence', 'Decision support', 'Deep learning', 'Digital microscopy', 'Drug development', 'Good Laboratory Practice', 'Nonclinical', 'Pathology', 'Toxicology', 'Virtual staining']]}, 'id_hash_keys': ['content'], 'embedding': None, 'id': '777901db3237eecac1544ba14d4c4ecc'}>, <Document: {'content': 'the current state of oncology medical services is not encouraging and is unable to fully meet the needs of patients with cancer. in recent years, rapidly developing artificial intelligence technology and gradual advancements in mobile phones, sensors, and wearable devices, which have made these more compact, affordable, and popular, have greatly expanded the development of digital medicine. digital medicine refers to clinical evidence-based technology and products with a direct impact on disease management and research. integrating digital medicine into clinical practice has the advantages of broader applicability, greater cost-effectiveness, better accessibility, and improved diagnostic and therapeutic performance. digital medicine has emerged in different clinical application scenarios, including cancer prevention, screening, diagnosis, and treatment, as well as clinical trials. additionally, big data generated from digital medicine can be used to improve levels of clinical diagnosis and treatment. however, digital medicine also faces many challenges, including security regulation and privacy protection, product usability, data management, and optimization of algorithms. in summary, the application and development of digital medicine in the field of cancer face numerous opportunities and challenges.', 'content_type': 'text', 'score': 0.9465678548801855, 'meta': {'title': 'applications of digital medicine in oncology: prospects and challenges.', 'keywords': [['artificial intelligence', 'digital medicine', 'oncology']]}, 'id_hash_keys': ['content'], 'embedding': None, 'id': 'ff6b279667306523ce5c9f43adbe7d3b'}>, <Document: {'content': 'acute kidney injury (aki) is a highly prevalent clinical syndrome that substantially impacts patient outcomes. it is accepted by the clinical communities that the management of aki is time-sensitive. unfortunately, despite growing proof of its preventability, aki management remains suboptimal in community, acute care, and postacute care settings. digital health solutions comprise various tools and models to improve care processes and patient outcomes in multiple medical fields. aki development, progression, recovery, or lack thereof, offers tremendous opportunities for developing, validating, and implementing digital health solutions in multiple settings. this article will review the definitions and components of digital health, the characteristics of aki that allow digital health solutions to be considered, and the opportunities and threats in implementing these solutions.', 'content_type': 'text', 'score': 0.9446098131134174, 'meta': {'title': 'digital health utilities in acute kidney injury management.', 'keywords': []}, 'id_hash_keys': ['content'], 'embedding': None, 'id': '68689135372f4a207b1828ac3777f58f'}>, <Document: {'content': 'after more than 20 years of multidisciplinary integration of medical science and technology,as well as research and practice in innovative diagnosis and treatment,digital medicine 4.0 has made a profound and important impact on the development of traditional surgery. to combine traditional surgery with digital medicine 4.0 technology is the direction of surgery development in the future.new technologies represented by digital intelligent navigation surgery have been deeply explored and widely applied in the diagnosis and treatment of many surgical diseases. with the innovative development and application of artificial intelligence,big data and mixed reality technology,the surgery will develop in ways similar to aerospace automatic and intelligent navigation,leading to the advent of digital medicine 5.0.', 'content_type': 'text', 'score': 0.9432122324106289, 'meta': {'title': '[how to change from traditional surgery to intelligent navigation surgery?].', 'keywords': []}, 'id_hash_keys': ['content'], 'embedding': None, 'id': '932bf78d0b4d16d0a53012c5aa71413d'}>, <Document: {'content': \"artificial intelligence (ai) is steadily entering and transforming the health care and primary care (pc) domains. ai-based applications assist physicians in disease detection, medical advice, triage, clinical decision-making, diagnostics and digital public health. recent literature has explored physicians' perspectives on the potential impact of digital public health on key tasks in pc. however, limited attention has been given to patients' perspectives of ai acceptance in pc, specifically during the coronavirus pandemic. addressing this research gap, we administered a pilot study to investigate criteria for patients' readiness to use ai-based pc applications by analyzing key factors affecting the adoption of digital public health technology.\", 'content_type': 'text', 'score': 0.9424910724724864, 'meta': {'title': \"artificial intelligence (ai) acceptance in primary care during the coronavirus pandemic: what is the role of patients' gender, age and health awareness? a two-phase pilot study.\", 'keywords': [['artificial intelligence', 'coronavirus pandemic', 'digital public health', 'health awareness', 'pilot study', 'primary care']]}, 'id_hash_keys': ['content'], 'embedding': None, 'id': '66b0ded26c60517b660da5c227aa9929'}>, <Document: {'content': 'although significant advances have been achieved in acute kidney injury (aki) research following its classification, potential pitfalls can be identified in clinical practice. the nonsteady-state (kinetic) estimated glomerular filtration rate (kegfr) could add clinical and prognostic information in critically ill patients beyond the current aki classification system.', 'content_type': 'text', 'score': 0.9419618173687757, 'meta': {'title': 'kinetic estimated glomerular filtration rate in critically ill patients: beyond the acute kidney injury severity classification system.', 'keywords': []}, 'id_hash_keys': ['content'], 'embedding': None, 'id': 'ef8f0d0b59d91d1c81575983a676141f'}>], 'answers': [<Answer {'answer': 'no', 'type': 'generative', 'score': None, 'context': None, 'offsets_in_document': None, 'offsets_in_context': None, 'document_ids': ['6637e755f1b9dbad1abd5198abbd1271', '4af46bed70cb2fdcb3dd3f205c50cb95', '29d3dbaa6f734b793234a18d81ab4bbc', 'e40b51e794081d673fb59d421d402ac3', '777901db3237eecac1544ba14d4c4ecc', 'ff6b279667306523ce5c9f43adbe7d3b', '68689135372f4a207b1828ac3777f58f', '932bf78d0b4d16d0a53012c5aa71413d', '66b0ded26c60517b660da5c227aa9929', 'ef8f0d0b59d91d1c81575983a676141f'], 'meta': {'prompt': 'question: Has the use of digital technology in managing AKI been fully explored and implemented in clinical practice? context: acute kidney injury (aki), which is a common complication of acute illnesses, affects the health of individuals in community, acute care and post-acute care settings. although the recognition, prevention and management of aki has advanced over the past decades, its incidence and related morbidity, mortality and health care burden remain overwhelming. the rapid growth of digital technologies has provided a new platform to improve patient care, and reports show demonstrable benefits in care processes and, in some instances, in patient outcomes. however, despite great progress, the potential benefits of using digital technology to manage aki has not yet been fully explored or implemented in clinical practice. digital health studies in aki have shown variable evidence of benefits, and the digital divide means that access to digital technologies is not equitable. upstream research and development costs, limited stakeholder participation and acceptance, and poor scalability of digital health solutions have hindered their widespread implementation and use. here, we provide recommendations from the acute disease quality initiative consensus meeting, which involved experts in adult and paediatric nephrology, critical care, pharmacy and data science, at which the use of digital health for risk prediction, prevention, identification and management of aki and its consequences was discussed. digital technology is becoming increasingly common in routine nursing practice. the adoption of digital technologies such as video calling, and other digital communication, has been hastened by the recent covid-19 pandemic. use of these technologies has the potential to revolutionise nursing practice, leading to potentially more accurate patient assessment, monitoring processes and improved safety in clinical areas. this article outlines key concepts related to the digitalisation of health care and the implications for nursing practice. the aim of this article is to encourage nurses to consider the implications, opportunities and challenges associated with the move towards digitalisation and advances in technology. specifically, this means understanding key digital developments'}}>], 'prompts': ['question: Has the use of digital technology in managing AKI been fully explored and implemented in clinical practice? context: acute kidney injury (aki), which is a common complication of acute illnesses, affects the health of individuals in community, acute care and post-acute care settings. although the recognition, prevention and management of aki has advanced over the past decades, its incidence and related morbidity, mortality and health care burden remain overwhelming. the rapid growth of digital technologies has provided a new platform to improve patient care, and reports show demonstrable benefits in care processes and, in some instances, in patient outcomes. however, despite great progress, the potential benefits of using digital technology to manage aki has not yet been fully explored or implemented in clinical practice. digital health studies in aki have shown variable evidence of benefits, and the digital divide means that access to digital technologies is not equitable. upstream research and development costs, limited stakeholder participation and acceptance, and poor scalability of digital health solutions have hindered their widespread implementation and use. here, we provide recommendations from the acute disease quality initiative consensus meeting, which involved experts in adult and paediatric nephrology, critical care, pharmacy and data science, at which the use of digital health for risk prediction, prevention, identification and management of aki and its consequences was discussed. digital technology is becoming increasingly common in routine nursing practice. the adoption of digital technologies such as video calling, and other digital communication, has been hastened by the recent covid-19 pandemic. use of these technologies has the potential to revolutionise nursing practice, leading to potentially more accurate patient assessment, monitoring processes and improved safety in clinical areas. this article outlines key concepts related to the digitalisation of health care and the implications for nursing practice. the aim of this article is to encourage nurses to consider the implications, opportunities and challenges associated with the move towards digitalisation and advances in technology. specifically, this means understanding key digital developments']}, 'documents': [<Document: {'content': 'acute kidney injury (aki), which is a common complication of acute illnesses, affects the health of individuals in community, acute care and post-acute care settings. although the recognition, prevention and management of aki has advanced over the past decades, its incidence and related morbidity, mortality and health care burden remain overwhelming. the rapid growth of digital technologies has provided a new platform to improve patient care, and reports show demonstrable benefits in care processes and, in some instances, in patient outcomes. however, despite great progress, the potential benefits of using digital technology to manage aki has not yet been fully explored or implemented in clinical practice. digital health studies in aki have shown variable evidence of benefits, and the digital divide means that access to digital technologies is not equitable. upstream research and development costs, limited stakeholder participation and acceptance, and poor scalability of digital health solutions have hindered their widespread implementation and use. here, we provide recommendations from the acute disease quality initiative consensus meeting, which involved experts in adult and paediatric nephrology, critical care, pharmacy and data science, at which the use of digital health for risk prediction, prevention, identification and management of aki and its consequences was discussed.', 'content_type': 'text', 'score': 0.9947115560581388, 'meta': {'title': 'digital health and acute kidney injury: consensus report of the 27th acute disease quality initiative workgroup.', 'keywords': []}, 'id_hash_keys': ['content'], 'embedding': None, 'id': '6637e755f1b9dbad1abd5198abbd1271'}>, <Document: {'content': 'digital technology is becoming increasingly common in routine nursing practice. the adoption of digital technologies such as video calling, and other digital communication, has been hastened by the recent covid-19 pandemic. use of these technologies has the potential to revolutionise nursing practice, leading to potentially more accurate patient assessment, monitoring processes and improved safety in clinical areas. this article outlines key concepts related to the digitalisation of health care and the implications for nursing practice. the aim of this article is to encourage nurses to consider the implications, opportunities and challenges associated with the move towards digitalisation and advances in technology. specifically, this means understanding key digital developments and innovations associated with healthcare provision and appreciating the implications of digitalisation for the future of nursing practice.', 'content_type': 'text', 'score': 0.9551775399621761, 'meta': {'title': 'the digital future of nursing: making sense of taxonomies and key concepts.', 'keywords': [['Artificial intelligence', 'Digital communication', 'Digital technology', 'Telehealth', 'e-health', 'e-prescribing']]}, 'id_hash_keys': ['content'], 'embedding': None, 'id': '4af46bed70cb2fdcb3dd3f205c50cb95'}>, <Document: {'content': 'electronic health records (ehrs) have become an integrated part of medical practice in most clinical settings around the world. appropriate use of ehr potentially improves patient care while poorly designed ehr can cause harm. in recent years, ehr has been used as a platform to identify patients who have or may develop acute kidney injury (aki). the benefit of using ehr for a rule-based classification of aki has been controversial. while some reports indicate improvement in the process of care provided to aki patients, other studies do not show significant changes in the outcomes. utilities of ehr in aki should go beyond a rule-based detection of the aki as a syndrome. there are several different potential applications for such tools including aki forecasting models and clinical decision support systems, to improve the quality of care and outcome of the patients with aki. both clinical and investigative interest in the field is growing among clinicians, administrators and scientists. appropriate utilization of intelligent ehr can provide timely, appropriate and accurate information to the clinicians in order to improve the quality of care provided to critically ill patients and assist investigators to generate new knowledge. in this review paper, we discuss the past and present states of ehr role in the field of aki. we also share our views regarding the future potentials and directions of these devices.', 'content_type': 'text', 'score': 0.9541177276969128, 'meta': {'title': 'utilities of electronic medical records to improve quality of care for acute kidney injury: past, present, future.', 'keywords': []}, 'id_hash_keys': ['content'], 'embedding': None, 'id': '29d3dbaa6f734b793234a18d81ab4bbc'}>, <Document: {'content': \"while a growing body of research has explored why people take part in clinical trials, this research has not considered how people's understandings, motivations and agendas might influence their conduct during a trial. this is an important area of enquiry because it is now widely recognised that an intervention might lead to different clinical outcomes when delivered as part of a trial than when implemented in routine clinical practice; however, the reasons for this are not fully understood.\", 'content_type': 'text', 'score': 0.9534724091505847, 'meta': {'title': \"ambassadors of hope, research pioneers and agents of change-individuals' expectations and experiences of taking part in a randomised trial of an innovative health technology: longitudinal qualitative study.\", 'keywords': [['Clinical trial', 'Diabetes', 'Medical device', 'Qualitative research', 'Technology', 'Trial effects', 'Trial participation']]}, 'id_hash_keys': ['content'], 'embedding': None, 'id': 'e40b51e794081d673fb59d421d402ac3'}>, <Document: {'content': 'we describe a roadmap for a fully digital artificial intelligence (ai)-augmented nonclinical pathology laboratory across three continents. underpinning the design are good laboratory practice (glp)-validated laboratory information management systems (lims), whole slide-scanners (wss), image management systems (ims), and a digital microscope intended for use by the nonclinical pathologist. digital diagnostics are supported by tools that include ai-based virtual staining and deep learning-based decision support. implemented during the covid-19 pandemic, the initial digitized workflow largely mitigated disruption of pivotal nonclinical studies required to support pharmaceutical clinical testing. we believe that this digital transformation of our nonclinical pathology laboratories will promote efficiency and innovation in the future and enhance the quality and speed of drug development decision making.', 'content_type': 'text', 'score': 0.9467282728824616, 'meta': {'title': 'building a nonclinical pathology laboratory of the future for pharmaceutical research excellence.', 'keywords': [['Artificial intelligence', 'Decision support', 'Deep learning', 'Digital microscopy', 'Drug development', 'Good Laboratory Practice', 'Nonclinical', 'Pathology', 'Toxicology', 'Virtual staining']]}, 'id_hash_keys': ['content'], 'embedding': None, 'id': '777901db3237eecac1544ba14d4c4ecc'}>, <Document: {'content': 'the current state of oncology medical services is not encouraging and is unable to fully meet the needs of patients with cancer. in recent years, rapidly developing artificial intelligence technology and gradual advancements in mobile phones, sensors, and wearable devices, which have made these more compact, affordable, and popular, have greatly expanded the development of digital medicine. digital medicine refers to clinical evidence-based technology and products with a direct impact on disease management and research. integrating digital medicine into clinical practice has the advantages of broader applicability, greater cost-effectiveness, better accessibility, and improved diagnostic and therapeutic performance. digital medicine has emerged in different clinical application scenarios, including cancer prevention, screening, diagnosis, and treatment, as well as clinical trials. additionally, big data generated from digital medicine can be used to improve levels of clinical diagnosis and treatment. however, digital medicine also faces many challenges, including security regulation and privacy protection, product usability, data management, and optimization of algorithms. in summary, the application and development of digital medicine in the field of cancer face numerous opportunities and challenges.', 'content_type': 'text', 'score': 0.9465678548801855, 'meta': {'title': 'applications of digital medicine in oncology: prospects and challenges.', 'keywords': [['artificial intelligence', 'digital medicine', 'oncology']]}, 'id_hash_keys': ['content'], 'embedding': None, 'id': 'ff6b279667306523ce5c9f43adbe7d3b'}>, <Document: {'content': 'acute kidney injury (aki) is a highly prevalent clinical syndrome that substantially impacts patient outcomes. it is accepted by the clinical communities that the management of aki is time-sensitive. unfortunately, despite growing proof of its preventability, aki management remains suboptimal in community, acute care, and postacute care settings. digital health solutions comprise various tools and models to improve care processes and patient outcomes in multiple medical fields. aki development, progression, recovery, or lack thereof, offers tremendous opportunities for developing, validating, and implementing digital health solutions in multiple settings. this article will review the definitions and components of digital health, the characteristics of aki that allow digital health solutions to be considered, and the opportunities and threats in implementing these solutions.', 'content_type': 'text', 'score': 0.9446098131134174, 'meta': {'title': 'digital health utilities in acute kidney injury management.', 'keywords': []}, 'id_hash_keys': ['content'], 'embedding': None, 'id': '68689135372f4a207b1828ac3777f58f'}>, <Document: {'content': 'after more than 20 years of multidisciplinary integration of medical science and technology,as well as research and practice in innovative diagnosis and treatment,digital medicine 4.0 has made a profound and important impact on the development of traditional surgery. to combine traditional surgery with digital medicine 4.0 technology is the direction of surgery development in the future.new technologies represented by digital intelligent navigation surgery have been deeply explored and widely applied in the diagnosis and treatment of many surgical diseases. with the innovative development and application of artificial intelligence,big data and mixed reality technology,the surgery will develop in ways similar to aerospace automatic and intelligent navigation,leading to the advent of digital medicine 5.0.', 'content_type': 'text', 'score': 0.9432122324106289, 'meta': {'title': '[how to change from traditional surgery to intelligent navigation surgery?].', 'keywords': []}, 'id_hash_keys': ['content'], 'embedding': None, 'id': '932bf78d0b4d16d0a53012c5aa71413d'}>, <Document: {'content': \"artificial intelligence (ai) is steadily entering and transforming the health care and primary care (pc) domains. ai-based applications assist physicians in disease detection, medical advice, triage, clinical decision-making, diagnostics and digital public health. recent literature has explored physicians' perspectives on the potential impact of digital public health on key tasks in pc. however, limited attention has been given to patients' perspectives of ai acceptance in pc, specifically during the coronavirus pandemic. addressing this research gap, we administered a pilot study to investigate criteria for patients' readiness to use ai-based pc applications by analyzing key factors affecting the adoption of digital public health technology.\", 'content_type': 'text', 'score': 0.9424910724724864, 'meta': {'title': \"artificial intelligence (ai) acceptance in primary care during the coronavirus pandemic: what is the role of patients' gender, age and health awareness? a two-phase pilot study.\", 'keywords': [['artificial intelligence', 'coronavirus pandemic', 'digital public health', 'health awareness', 'pilot study', 'primary care']]}, 'id_hash_keys': ['content'], 'embedding': None, 'id': '66b0ded26c60517b660da5c227aa9929'}>, <Document: {'content': 'although significant advances have been achieved in acute kidney injury (aki) research following its classification, potential pitfalls can be identified in clinical practice. the nonsteady-state (kinetic) estimated glomerular filtration rate (kegfr) could add clinical and prognostic information in critically ill patients beyond the current aki classification system.', 'content_type': 'text', 'score': 0.9419618173687757, 'meta': {'title': 'kinetic estimated glomerular filtration rate in critically ill patients: beyond the acute kidney injury severity classification system.', 'keywords': []}, 'id_hash_keys': ['content'], 'embedding': None, 'id': 'ef8f0d0b59d91d1c81575983a676141f'}>], 'root_node': 'Query', 'params': {}, 'query': 'Has the use of digital technology in managing AKI been fully explored and implemented in clinical practice?', 'node_id': 'prompt_node'}\n"
     ]
    }
   ],
   "source": [
    "\n",
    "output1 = pipe.run(query=\"Does psammaplin A induce Sirtuin 1-dependent autophagic cell death in doxorubicin-resistant MCF-7/adr human breast cancer cells and xenografts?\")\n",
    "output2 = pipe.run(query=\"What are the benefits of using biopolymer-based films in food packaging??\")\n",
    "output3 = pipe.run(query=\"Has the use of digital technology in managing AKI been fully explored and implemented in clinical practice?\")\n",
    "\n",
    "print(output3)"
   ]
  },
  {
   "cell_type": "code",
   "execution_count": null,
   "id": "348e6a76",
   "metadata": {},
   "outputs": [],
   "source": []
  }
 ],
 "metadata": {
  "kernelspec": {
   "display_name": "Python 3 (ipykernel)",
   "language": "python",
   "name": "python3"
  },
  "language_info": {
   "codemirror_mode": {
    "name": "ipython",
    "version": 3
   },
   "file_extension": ".py",
   "mimetype": "text/x-python",
   "name": "python",
   "nbconvert_exporter": "python",
   "pygments_lexer": "ipython3",
   "version": "3.10.10"
  },
  "toc": {
   "base_numbering": 1,
   "nav_menu": {},
   "number_sections": false,
   "sideBar": true,
   "skip_h1_title": false,
   "title_cell": "Table of Contents",
   "title_sidebar": "Contents",
   "toc_cell": false,
   "toc_position": {},
   "toc_section_display": true,
   "toc_window_display": false
  }
 },
 "nbformat": 4,
 "nbformat_minor": 5
}
