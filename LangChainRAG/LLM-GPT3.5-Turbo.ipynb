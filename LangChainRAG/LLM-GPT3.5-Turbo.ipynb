{
 "cells": [
  {
   "cell_type": "markdown",
   "id": "ddc4952d",
   "metadata": {},
   "source": [
    "# **Using Chroma vector store and GPT3.5 Turbo as LLM**\n",
    "Please make sure to execute first LangChainRAG/Embedding-OpenAI-Chroma.ipynb to embed our medical documents. This Notebook is merely applying GPT3.5 Turbo as LLM."
   ]
  },
  {
   "cell_type": "code",
   "execution_count": 49,
   "id": "4023c442",
   "metadata": {
    "collapsed": true
   },
   "outputs": [
    {
     "name": "stdout",
     "output_type": "stream",
     "text": [
      "Requirement already satisfied: evaluate in c:\\users\\burha\\miniconda3\\lib\\site-packages (0.4.1)\n",
      "Requirement already satisfied: responses<0.19 in c:\\users\\burha\\miniconda3\\lib\\site-packages (from evaluate) (0.18.0)\n",
      "Requirement already satisfied: huggingface-hub>=0.7.0 in c:\\users\\burha\\appdata\\roaming\\python\\python310\\site-packages (from evaluate) (0.20.2)\n",
      "Requirement already satisfied: tqdm>=4.62.1 in c:\\users\\burha\\appdata\\roaming\\python\\python310\\site-packages (from evaluate) (4.66.1)\n",
      "Requirement already satisfied: xxhash in c:\\users\\burha\\miniconda3\\lib\\site-packages (from evaluate) (3.4.1)\n",
      "Requirement already satisfied: pandas in c:\\users\\burha\\appdata\\roaming\\python\\python310\\site-packages (from evaluate) (2.1.4)\n",
      "Requirement already satisfied: datasets>=2.0.0 in c:\\users\\burha\\miniconda3\\lib\\site-packages (from evaluate) (2.16.0)\n",
      "Requirement already satisfied: packaging in c:\\users\\burha\\appdata\\roaming\\python\\python310\\site-packages (from evaluate) (23.2)\n",
      "Requirement already satisfied: numpy>=1.17 in c:\\users\\burha\\appdata\\roaming\\python\\python310\\site-packages (from evaluate) (1.26.3)\n",
      "Requirement already satisfied: dill in c:\\users\\burha\\miniconda3\\lib\\site-packages (from evaluate) (0.3.7)\n",
      "Requirement already satisfied: multiprocess in c:\\users\\burha\\miniconda3\\lib\\site-packages (from evaluate) (0.70.15)\n",
      "Requirement already satisfied: requests>=2.19.0 in c:\\users\\burha\\appdata\\roaming\\python\\python310\\site-packages (from evaluate) (2.31.0)\n",
      "Requirement already satisfied: fsspec[http]>=2021.05.0 in c:\\users\\burha\\miniconda3\\lib\\site-packages (from evaluate) (2023.10.0)\n",
      "Requirement already satisfied: pyarrow>=8.0.0 in c:\\users\\burha\\miniconda3\\lib\\site-packages (from datasets>=2.0.0->evaluate) (14.0.1)\n",
      "Requirement already satisfied: pyarrow-hotfix in c:\\users\\burha\\miniconda3\\lib\\site-packages (from datasets>=2.0.0->evaluate) (0.6)\n",
      "Requirement already satisfied: filelock in c:\\users\\burha\\appdata\\roaming\\python\\python310\\site-packages (from datasets>=2.0.0->evaluate) (3.13.1)\n",
      "Requirement already satisfied: pyyaml>=5.1 in c:\\users\\burha\\appdata\\roaming\\python\\python310\\site-packages (from datasets>=2.0.0->evaluate) (6.0.1)\n",
      "Requirement already satisfied: aiohttp in c:\\users\\burha\\miniconda3\\lib\\site-packages (from datasets>=2.0.0->evaluate) (3.8.6)\n",
      "Requirement already satisfied: typing-extensions>=3.7.4.3 in c:\\users\\burha\\appdata\\roaming\\python\\python310\\site-packages (from huggingface-hub>=0.7.0->evaluate) (4.9.0)\n",
      "Requirement already satisfied: charset-normalizer<4,>=2 in c:\\users\\burha\\appdata\\roaming\\python\\python310\\site-packages (from requests>=2.19.0->evaluate) (3.3.2)\n",
      "Requirement already satisfied: certifi>=2017.4.17 in c:\\users\\burha\\appdata\\roaming\\python\\python310\\site-packages (from requests>=2.19.0->evaluate) (2023.11.17)\n",
      "Requirement already satisfied: urllib3<3,>=1.21.1 in c:\\users\\burha\\appdata\\roaming\\python\\python310\\site-packages (from requests>=2.19.0->evaluate) (2.1.0)\n",
      "Requirement already satisfied: idna<4,>=2.5 in c:\\users\\burha\\appdata\\roaming\\python\\python310\\site-packages (from requests>=2.19.0->evaluate) (3.6)\n",
      "Requirement already satisfied: colorama in c:\\users\\burha\\appdata\\roaming\\python\\python310\\site-packages (from tqdm>=4.62.1->evaluate) (0.4.6)\n",
      "Requirement already satisfied: python-dateutil>=2.8.2 in c:\\users\\burha\\appdata\\roaming\\python\\python310\\site-packages (from pandas->evaluate) (2.8.2)\n",
      "Requirement already satisfied: pytz>=2020.1 in c:\\users\\burha\\appdata\\roaming\\python\\python310\\site-packages (from pandas->evaluate) (2023.3.post1)\n",
      "Requirement already satisfied: tzdata>=2022.1 in c:\\users\\burha\\appdata\\roaming\\python\\python310\\site-packages (from pandas->evaluate) (2023.4)\n",
      "Requirement already satisfied: async-timeout<5.0,>=4.0.0a3 in c:\\users\\burha\\miniconda3\\lib\\site-packages (from aiohttp->datasets>=2.0.0->evaluate) (4.0.3)\n",
      "Requirement already satisfied: aiosignal>=1.1.2 in c:\\users\\burha\\miniconda3\\lib\\site-packages (from aiohttp->datasets>=2.0.0->evaluate) (1.3.1)\n",
      "Requirement already satisfied: attrs>=17.3.0 in c:\\users\\burha\\appdata\\roaming\\python\\python310\\site-packages (from aiohttp->datasets>=2.0.0->evaluate) (23.2.0)\n",
      "Requirement already satisfied: yarl<2.0,>=1.0 in c:\\users\\burha\\miniconda3\\lib\\site-packages (from aiohttp->datasets>=2.0.0->evaluate) (1.9.2)\n",
      "Requirement already satisfied: multidict<7.0,>=4.5 in c:\\users\\burha\\miniconda3\\lib\\site-packages (from aiohttp->datasets>=2.0.0->evaluate) (6.0.4)\n",
      "Requirement already satisfied: frozenlist>=1.1.1 in c:\\users\\burha\\miniconda3\\lib\\site-packages (from aiohttp->datasets>=2.0.0->evaluate) (1.4.0)\n",
      "Requirement already satisfied: six>=1.5 in c:\\users\\burha\\appdata\\roaming\\python\\python310\\site-packages (from python-dateutil>=2.8.2->pandas->evaluate) (1.16.0)\n",
      "Requirement already satisfied: rouge_score in c:\\users\\burha\\miniconda3\\lib\\site-packages (0.1.2)\n",
      "Requirement already satisfied: absl-py in c:\\users\\burha\\miniconda3\\lib\\site-packages (from rouge_score) (2.1.0)\n",
      "Requirement already satisfied: nltk in c:\\users\\burha\\appdata\\roaming\\python\\python310\\site-packages (from rouge_score) (3.8.1)\n",
      "Requirement already satisfied: numpy in c:\\users\\burha\\appdata\\roaming\\python\\python310\\site-packages (from rouge_score) (1.26.3)\n",
      "Requirement already satisfied: six>=1.14.0 in c:\\users\\burha\\appdata\\roaming\\python\\python310\\site-packages (from rouge_score) (1.16.0)\n",
      "Requirement already satisfied: regex>=2021.8.3 in c:\\users\\burha\\appdata\\roaming\\python\\python310\\site-packages (from nltk->rouge_score) (2023.12.25)\n",
      "Requirement already satisfied: joblib in c:\\users\\burha\\appdata\\roaming\\python\\python310\\site-packages (from nltk->rouge_score) (1.3.2)\n",
      "Requirement already satisfied: click in c:\\users\\burha\\appdata\\roaming\\python\\python310\\site-packages (from nltk->rouge_score) (8.1.7)\n",
      "Requirement already satisfied: tqdm in c:\\users\\burha\\appdata\\roaming\\python\\python310\\site-packages (from nltk->rouge_score) (4.66.1)\n",
      "Requirement already satisfied: colorama in c:\\users\\burha\\appdata\\roaming\\python\\python310\\site-packages (from click->nltk->rouge_score) (0.4.6)\n",
      "Collecting bert_score\n",
      "  Downloading bert_score-0.3.13-py3-none-any.whl (61 kB)\n",
      "     ---------------------------------------- 61.1/61.1 kB 3.2 MB/s eta 0:00:00\n",
      "Requirement already satisfied: tqdm>=4.31.1 in c:\\users\\burha\\appdata\\roaming\\python\\python310\\site-packages (from bert_score) (4.66.1)\n",
      "Requirement already satisfied: torch>=1.0.0 in c:\\users\\burha\\appdata\\roaming\\python\\python310\\site-packages (from bert_score) (2.1.2)\n",
      "Requirement already satisfied: numpy in c:\\users\\burha\\appdata\\roaming\\python\\python310\\site-packages (from bert_score) (1.26.3)\n",
      "Requirement already satisfied: transformers>=3.0.0 in c:\\users\\burha\\appdata\\roaming\\python\\python310\\site-packages (from bert_score) (4.35.2)\n",
      "Requirement already satisfied: requests in c:\\users\\burha\\appdata\\roaming\\python\\python310\\site-packages (from bert_score) (2.31.0)\n",
      "Requirement already satisfied: pandas>=1.0.1 in c:\\users\\burha\\appdata\\roaming\\python\\python310\\site-packages (from bert_score) (2.1.4)\n",
      "Requirement already satisfied: matplotlib in c:\\users\\burha\\miniconda3\\lib\\site-packages (from bert_score) (3.7.1)\n",
      "Requirement already satisfied: packaging>=20.9 in c:\\users\\burha\\appdata\\roaming\\python\\python310\\site-packages (from bert_score) (23.2)\n",
      "Requirement already satisfied: python-dateutil>=2.8.2 in c:\\users\\burha\\appdata\\roaming\\python\\python310\\site-packages (from pandas>=1.0.1->bert_score) (2.8.2)\n",
      "Requirement already satisfied: tzdata>=2022.1 in c:\\users\\burha\\appdata\\roaming\\python\\python310\\site-packages (from pandas>=1.0.1->bert_score) (2023.4)\n",
      "Requirement already satisfied: pytz>=2020.1 in c:\\users\\burha\\appdata\\roaming\\python\\python310\\site-packages (from pandas>=1.0.1->bert_score) (2023.3.post1)\n",
      "Requirement already satisfied: sympy in c:\\users\\burha\\appdata\\roaming\\python\\python310\\site-packages (from torch>=1.0.0->bert_score) (1.12)\n",
      "Requirement already satisfied: filelock in c:\\users\\burha\\appdata\\roaming\\python\\python310\\site-packages (from torch>=1.0.0->bert_score) (3.13.1)\n",
      "Requirement already satisfied: jinja2 in c:\\users\\burha\\appdata\\roaming\\python\\python310\\site-packages (from torch>=1.0.0->bert_score) (3.1.3)\n",
      "Requirement already satisfied: networkx in c:\\users\\burha\\appdata\\roaming\\python\\python310\\site-packages (from torch>=1.0.0->bert_score) (3.2.1)\n",
      "Requirement already satisfied: typing-extensions in c:\\users\\burha\\appdata\\roaming\\python\\python310\\site-packages (from torch>=1.0.0->bert_score) (4.9.0)\n",
      "Requirement already satisfied: fsspec in c:\\users\\burha\\miniconda3\\lib\\site-packages (from torch>=1.0.0->bert_score) (2023.10.0)\n",
      "Requirement already satisfied: colorama in c:\\users\\burha\\appdata\\roaming\\python\\python310\\site-packages (from tqdm>=4.31.1->bert_score) (0.4.6)\n",
      "Requirement already satisfied: safetensors>=0.3.1 in c:\\users\\burha\\appdata\\roaming\\python\\python310\\site-packages (from transformers>=3.0.0->bert_score) (0.4.1)\n",
      "Requirement already satisfied: pyyaml>=5.1 in c:\\users\\burha\\appdata\\roaming\\python\\python310\\site-packages (from transformers>=3.0.0->bert_score) (6.0.1)\n",
      "Requirement already satisfied: tokenizers<0.19,>=0.14 in c:\\users\\burha\\appdata\\roaming\\python\\python310\\site-packages (from transformers>=3.0.0->bert_score) (0.15.0)\n",
      "Requirement already satisfied: huggingface-hub<1.0,>=0.16.4 in c:\\users\\burha\\appdata\\roaming\\python\\python310\\site-packages (from transformers>=3.0.0->bert_score) (0.20.2)\n",
      "Requirement already satisfied: regex!=2019.12.17 in c:\\users\\burha\\appdata\\roaming\\python\\python310\\site-packages (from transformers>=3.0.0->bert_score) (2023.12.25)\n",
      "Requirement already satisfied: kiwisolver>=1.0.1 in c:\\users\\burha\\miniconda3\\lib\\site-packages (from matplotlib->bert_score) (1.4.4)\n",
      "Requirement already satisfied: fonttools>=4.22.0 in c:\\users\\burha\\miniconda3\\lib\\site-packages (from matplotlib->bert_score) (4.39.3)\n",
      "Requirement already satisfied: pyparsing>=2.3.1 in c:\\users\\burha\\miniconda3\\lib\\site-packages (from matplotlib->bert_score) (3.0.9)\n",
      "Requirement already satisfied: cycler>=0.10 in c:\\users\\burha\\miniconda3\\lib\\site-packages (from matplotlib->bert_score) (0.11.0)\n",
      "Requirement already satisfied: pillow>=6.2.0 in c:\\users\\burha\\appdata\\roaming\\python\\python310\\site-packages (from matplotlib->bert_score) (10.2.0)\n",
      "Requirement already satisfied: contourpy>=1.0.1 in c:\\users\\burha\\miniconda3\\lib\\site-packages (from matplotlib->bert_score) (1.0.7)\n",
      "Requirement already satisfied: certifi>=2017.4.17 in c:\\users\\burha\\appdata\\roaming\\python\\python310\\site-packages (from requests->bert_score) (2023.11.17)\n",
      "Requirement already satisfied: idna<4,>=2.5 in c:\\users\\burha\\appdata\\roaming\\python\\python310\\site-packages (from requests->bert_score) (3.6)\n",
      "Requirement already satisfied: charset-normalizer<4,>=2 in c:\\users\\burha\\appdata\\roaming\\python\\python310\\site-packages (from requests->bert_score) (3.3.2)\n",
      "Requirement already satisfied: urllib3<3,>=1.21.1 in c:\\users\\burha\\appdata\\roaming\\python\\python310\\site-packages (from requests->bert_score) (2.1.0)\n",
      "Requirement already satisfied: six>=1.5 in c:\\users\\burha\\appdata\\roaming\\python\\python310\\site-packages (from python-dateutil>=2.8.2->pandas>=1.0.1->bert_score) (1.16.0)\n",
      "Requirement already satisfied: MarkupSafe>=2.0 in c:\\users\\burha\\appdata\\roaming\\python\\python310\\site-packages (from jinja2->torch>=1.0.0->bert_score) (2.1.3)\n",
      "Requirement already satisfied: mpmath>=0.19 in c:\\users\\burha\\appdata\\roaming\\python\\python310\\site-packages (from sympy->torch>=1.0.0->bert_score) (1.3.0)\n",
      "Installing collected packages: bert_score\n",
      "Successfully installed bert_score-0.3.13\n"
     ]
    },
    {
     "name": "stderr",
     "output_type": "stream",
     "text": [
      "ERROR: Could not find a version that satisfies the requirement bleu_score (from versions: none)\n",
      "ERROR: No matching distribution found for bleu_score\n"
     ]
    }
   ],
   "source": [
    "!pip -q install langchain openai chromadb sentence_transformers evaluate rouge_score bert_score bleu_score"
   ]
  },
  {
   "cell_type": "code",
   "execution_count": 25,
   "id": "3bdd4550",
   "metadata": {},
   "outputs": [],
   "source": [
    "from langchain.vectorstores import Chroma\n",
    "from langchain.llms import OpenAI\n",
    "from langchain.chains import RetrievalQA\n",
    "from langchain.vectorstores import Chroma"
   ]
  },
  {
   "cell_type": "markdown",
   "id": "7c9b0ad0",
   "metadata": {},
   "source": [
    "## **OpenAI Authenticatation**\n",
    "We use OpenAIs GPT3.5 Turbo. Make sure to have balance on your OpenAI Dashboard and create a personal secret key at https://platform.openai.com/api-keys."
   ]
  },
  {
   "cell_type": "code",
   "execution_count": 4,
   "id": "aa6daf8f",
   "metadata": {},
   "outputs": [
    {
     "name": "stdout",
     "output_type": "stream",
     "text": [
      "········\n"
     ]
    }
   ],
   "source": [
    "import getpass\n",
    "import os\n",
    "\n",
    "os.environ[\"OPENAI_API_KEY\"] = getpass.getpass()"
   ]
  },
  {
   "cell_type": "markdown",
   "id": "2f8cb310",
   "metadata": {},
   "source": [
    "## **Load Chroma**\n",
    "We first load the Chroma vector database."
   ]
  },
  {
   "cell_type": "code",
   "execution_count": 26,
   "id": "3a7d37a2",
   "metadata": {},
   "outputs": [
    {
     "name": "stdout",
     "output_type": "stream",
     "text": [
      "Directory './Chroma/chroma_openai' exists, perfect!\n"
     ]
    }
   ],
   "source": [
    "import os\n",
    "\n",
    "persist_directory = \"./Chroma/chroma_openai\"\n",
    "# Create the directory if it does not exist\n",
    "if not os.path.exists(persist_directory):\n",
    "    print(f\"Please execute first LangChainRAG/Embedding-OpenAI-Chroma.ipynb, we didn't find any Chroma vector storage.\")\n",
    "else:\n",
    "    print(f\"Directory '{persist_directory}' exists, perfect!\")\n"
   ]
  },
  {
   "cell_type": "code",
   "execution_count": 23,
   "id": "45f33ddf",
   "metadata": {},
   "outputs": [],
   "source": [
    "query = \"What is the proposed optical biosensor based on?\"\n",
    "db3 = Chroma(persist_directory=persist_directory, embedding_function=OpenAIEmbeddings())"
   ]
  },
  {
   "cell_type": "markdown",
   "id": "ffbc0c79",
   "metadata": {},
   "source": [
    "## **Initialize GPT 3.5 Turbo and prompt query**"
   ]
  },
  {
   "cell_type": "code",
   "execution_count": 20,
   "id": "6f628b6c",
   "metadata": {},
   "outputs": [],
   "source": [
    "from langchain import hub\n",
    "from langchain_openai import ChatOpenAI\n",
    "\n",
    "from langchain_core.output_parsers import StrOutputParser\n",
    "from langchain_core.runnables import RunnablePassthrough\n",
    "\n",
    "\n",
    "retriever = db3.as_retriever() # print(dir(db3)) to get all functions, attributes\n",
    "prompt = hub.pull(\"rlm/rag-prompt\")\n",
    "llm = ChatOpenAI(model_name=\"gpt-3.5-turbo\", temperature=0)\n",
    "\n",
    "def format_docs(docs):\n",
    "    return \"\\n\\n\".join(doc.page_content for doc in docs)\n",
    "\n",
    "\n",
    "rag_chain = (\n",
    "    {\"context\": retriever | format_docs, \"question\": RunnablePassthrough()}\n",
    "    | prompt\n",
    "    | llm\n",
    "    | StrOutputParser()\n",
    ")\n"
   ]
  },
  {
   "cell_type": "code",
   "execution_count": 21,
   "id": "615fe4ce",
   "metadata": {},
   "outputs": [
    {
     "data": {
      "text/plain": [
       "'The compatibility of drugs with excipients is crucial in pharmaceutical formulations to ensure stability, efficacy, and safety of the medication. Machine learning can aid in drug formulation development by predicting pharmaceutical formulations, optimizing drug delivery, and accelerating drug discovery through accurate predictions and informed decision-making. Deep learning, specifically convolutional neural networks, can excel in image analysis for biomarker identification and drug formulation optimization.'"
      ]
     },
     "execution_count": 21,
     "metadata": {},
     "output_type": "execute_result"
    }
   ],
   "source": [
    "rag_chain.invoke(\"Why is the compatibility of drugs with excipients important in pharmaceutical formulations? And how can machine learning aid exactly?\")"
   ]
  },
  {
   "cell_type": "code",
   "execution_count": null,
   "id": "579caa51",
   "metadata": {},
   "outputs": [],
   "source": []
  }
 ],
 "metadata": {
  "kernelspec": {
   "display_name": "Python 3 (ipykernel)",
   "language": "python",
   "name": "python3"
  },
  "language_info": {
   "codemirror_mode": {
    "name": "ipython",
    "version": 3
   },
   "file_extension": ".py",
   "mimetype": "text/x-python",
   "name": "python",
   "nbconvert_exporter": "python",
   "pygments_lexer": "ipython3",
   "version": "3.10.10"
  },
  "toc": {
   "base_numbering": 1,
   "nav_menu": {},
   "number_sections": false,
   "sideBar": true,
   "skip_h1_title": false,
   "title_cell": "Table of Contents",
   "title_sidebar": "Contents",
   "toc_cell": false,
   "toc_position": {},
   "toc_section_display": true,
   "toc_window_display": false
  }
 },
 "nbformat": 4,
 "nbformat_minor": 5
}
